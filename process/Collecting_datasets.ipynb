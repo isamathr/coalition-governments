{
 "cells": [
  {
   "cell_type": "markdown",
   "id": "f91a7e3d",
   "metadata": {},
   "source": [
    "# Collecting Data"
   ]
  },
  {
   "cell_type": "code",
   "execution_count": 1,
   "id": "a9b5be39",
   "metadata": {},
   "outputs": [],
   "source": [
    "## Gross Domestic Product data from 'https://www.kaggle.com/datasets/nitishabharathi/gdp-per-capita-all-countries'\n",
    "## World Press Freedom index data from 'https://rsf.org/en/index'\n",
    "## Corruption index data from 'https://www.transparency.org/en/cpi/2022'\n",
    "## Coalition governments data from Bing's AI"
   ]
  },
  {
   "cell_type": "markdown",
   "id": "e3ad315c",
   "metadata": {},
   "source": [
    "Importing necessary libraries"
   ]
  },
  {
   "cell_type": "code",
   "execution_count": null,
   "id": "a3843c9e",
   "metadata": {},
   "outputs": [],
   "source": [
    "from bs4 import BeautifulSoup\n",
    "import requests\n",
    "import pandas as pd"
   ]
  },
  {
   "cell_type": "markdown",
   "id": "c9b27e50",
   "metadata": {},
   "source": [
    "Scraping list of countries"
   ]
  },
  {
   "cell_type": "code",
   "execution_count": null,
   "id": "0daba27b",
   "metadata": {},
   "outputs": [],
   "source": [
    "## URL to scrape election dates\n",
    "url = \"https://www.worldometers.info/geography/how-many-countries-are-there-in-the-world/\"\n",
    "headers = {\"User-Agent\": \"Mozilla/5.0 (Windows NT 10.0; Win64; x64) AppleWebKit/537.36 (KHTML, like Gecko) Chrome/114.0.0.0 Safari/537.36\"}\n",
    "\n",
    "page = requests.get(url, headers=headers)\n",
    "soup = BeautifulSoup(page.content, \"html.parser\")\n",
    "soup1 = BeautifulSoup(soup.prettify())\n",
    "ex = soup1.find('table',{'id':'example2'}).find('tbody').find_all('tr')\n",
    "\n",
    "country_list = []\n",
    "for i in ex:\n",
    "    dic = {}\n",
    "    c = i.find_all('td')[1].text\n",
    "    c = c.strip()\n",
    "    dic['Country'] = c\n",
    "    country_list.append(dic)\n",
    "country_list"
   ]
  },
  {
   "cell_type": "markdown",
   "id": "febe8126",
   "metadata": {},
   "source": [
    "Save to csv locally"
   ]
  },
  {
   "cell_type": "code",
   "execution_count": null,
   "id": "48a535f3",
   "metadata": {},
   "outputs": [],
   "source": [
    "df = pd.DataFrame(country_list)\n",
    "df.to_csv('Countries.csv',index_label='id',quotechar='\"')"
   ]
  },
  {
   "cell_type": "markdown",
   "id": "b9a74971",
   "metadata": {},
   "source": [
    "Scraping elections for each country"
   ]
  },
  {
   "cell_type": "code",
   "execution_count": null,
   "id": "aaa62727",
   "metadata": {},
   "outputs": [],
   "source": [
    "def mod_df(url,headers):\n",
    "    page = requests.get(url, headers=headers)\n",
    "    soup = BeautifulSoup(page.content, \"html.parser\")\n",
    "    soup1 = BeautifulSoup(soup.prettify())\n",
    "    ex = soup1.find('table',{'id':'electionsTable'}).find('tbody').find_all('tr')\n",
    "    \n",
    "    table = []\n",
    "    for i in ex:\n",
    "        dic = {}\n",
    "        c1 = i.find_all('td')[1].text\n",
    "        c1 = c1.strip()\n",
    "        c2 = i.find_all('td')[2].text\n",
    "        c2 = c2.strip()\n",
    "        c3 = i.find_all('td')[3].text\n",
    "        c3 = c3.strip()\n",
    "        dic['Country'] = c1\n",
    "        dic['Election'] = c2\n",
    "        dic['Date'] = c3\n",
    "        table.append(dic)\n",
    "    return table\n",
    "\n",
    "def clean(df):\n",
    "    df['Date'] = df['Date'].str.replace(\"\\n\",\"\")\n",
    "    df['Date'] = df['Date'].str.replace(\"(\",\"\")\n",
    "    df['Date'] = df['Date'].str.replace(\")\",\"\")\n",
    "    df['Date'] = df['Date'].str.replace(\" t\",\"\")\n",
    "    df['Date'] = df['Date'].str.replace(\" d\",\"\")\n",
    "    df['Date'] = df['Date'].apply(pd.to_datetime)\n",
    "    name = \"Elections_Countries.csv\"\n",
    "    df.to_csv(name,index_label='id')\n",
    "\n",
    "ids = [str(i) for i in range(1,241)]\n",
    "dfs = []\n",
    "for i in ids:\n",
    "    url = \"https://www.electionguide.org/elections/type/custom/?country_id=\"+i+\"&election_institution_type_id=&year=\"\n",
    "    print(url)\n",
    "    headers = {\"User-Agent\": \"Mozilla/5.0 (Windows NT 10.0; Win64; x64) AppleWebKit/537.36 (KHTML, like Gecko)\"}\n",
    "    table = mod_df(url,headers)\n",
    "    df = pd.DataFrame(table)\n",
    "    dfs.append(df)\n",
    "df_all = pd.concat(dfs)\n",
    "clean(df_all)"
   ]
  }
 ],
 "metadata": {
  "kernelspec": {
   "display_name": "Python 3 (ipykernel)",
   "language": "python",
   "name": "python3"
  },
  "language_info": {
   "codemirror_mode": {
    "name": "ipython",
    "version": 3
   },
   "file_extension": ".py",
   "mimetype": "text/x-python",
   "name": "python",
   "nbconvert_exporter": "python",
   "pygments_lexer": "ipython3",
   "version": "3.10.9"
  }
 },
 "nbformat": 4,
 "nbformat_minor": 5
}
